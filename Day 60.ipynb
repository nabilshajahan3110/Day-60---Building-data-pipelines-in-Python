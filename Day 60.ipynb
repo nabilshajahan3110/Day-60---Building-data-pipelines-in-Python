{
 "cells": [
  {
   "cell_type": "markdown",
   "id": "f4c96b8b-a479-45b2-8012-38c07e49dd4a",
   "metadata": {},
   "source": [
    "## Assignment: Building a Data Pipeline in Python"
   ]
  },
  {
   "cell_type": "markdown",
   "id": "cdc2a309-4fb4-46de-bad4-d35f39e5e57b",
   "metadata": {},
   "source": [
    "### **Objective**:\n",
    "Build a simple data pipeline that extracts data from a public API, transforms it for analysis, and loads it into a database."
   ]
  },
  {
   "cell_type": "code",
   "execution_count": 27,
   "id": "9208f443-52ee-4789-8acb-05cb6d13f77f",
   "metadata": {},
   "outputs": [],
   "source": [
    "import warnings\n",
    "import sys\n",
    "if not sys.warnoptions:\n",
    "    warnings.simplefilter(\"ignore\")"
   ]
  },
  {
   "cell_type": "markdown",
   "id": "8e5c15ea-5e50-470f-99cf-56d5f2e5bedc",
   "metadata": {},
   "source": [
    "#### **1. Extract Data from an API**:"
   ]
  },
  {
   "cell_type": "code",
   "execution_count": 29,
   "id": "a7979256-b42c-4fdb-a721-e90ee2c7054a",
   "metadata": {},
   "outputs": [],
   "source": [
    "import requests\n",
    "import pandas as pd"
   ]
  },
  {
   "cell_type": "code",
   "execution_count": 31,
   "id": "22e7cd94-9cab-4f96-97c2-c6b864e368dc",
   "metadata": {},
   "outputs": [],
   "source": [
    "# Step 1: Extract data from the API\n",
    "api_url = \"https://jsonplaceholder.typicode.com/users\"\n",
    "response = requests.get(api_url)\n",
    "response.raise_for_status()  # Ensure the API request was successful\n",
    "data = response.json()"
   ]
  },
  {
   "cell_type": "code",
   "execution_count": 33,
   "id": "4b4a06ac-5751-4f94-bf87-7cc8c504f72c",
   "metadata": {},
   "outputs": [
    {
     "name": "stdout",
     "output_type": "stream",
     "text": [
      "Data extracted successfully:\n",
      "   id              name   username                      email  \\\n",
      "0   1     Leanne Graham       Bret          Sincere@april.biz   \n",
      "1   2      Ervin Howell  Antonette          Shanna@melissa.tv   \n",
      "2   3  Clementine Bauch   Samantha         Nathan@yesenia.net   \n",
      "3   4  Patricia Lebsack   Karianne  Julianne.OConner@kory.org   \n",
      "4   5  Chelsey Dietrich     Kamren   Lucio_Hettinger@annie.ca   \n",
      "\n",
      "                                             address                  phone  \\\n",
      "0  {'street': 'Kulas Light', 'suite': 'Apt. 556',...  1-770-736-8031 x56442   \n",
      "1  {'street': 'Victor Plains', 'suite': 'Suite 87...    010-692-6593 x09125   \n",
      "2  {'street': 'Douglas Extension', 'suite': 'Suit...         1-463-123-4447   \n",
      "3  {'street': 'Hoeger Mall', 'suite': 'Apt. 692',...      493-170-9623 x156   \n",
      "4  {'street': 'Skiles Walks', 'suite': 'Suite 351...          (254)954-1289   \n",
      "\n",
      "         website                                            company  \n",
      "0  hildegard.org  {'name': 'Romaguera-Crona', 'catchPhrase': 'Mu...  \n",
      "1  anastasia.net  {'name': 'Deckow-Crist', 'catchPhrase': 'Proac...  \n",
      "2    ramiro.info  {'name': 'Romaguera-Jacobson', 'catchPhrase': ...  \n",
      "3       kale.biz  {'name': 'Robel-Corkery', 'catchPhrase': 'Mult...  \n",
      "4   demarco.info  {'name': 'Keebler LLC', 'catchPhrase': 'User-c...  \n"
     ]
    }
   ],
   "source": [
    "# Convert the data to a pandas DataFrame\n",
    "df_users = pd.DataFrame(data)\n",
    "print(\"Data extracted successfully:\")\n",
    "print(df_users.head())"
   ]
  },
  {
   "cell_type": "markdown",
   "id": "b328727c-de0b-43f4-a473-f213ec241ed0",
   "metadata": {},
   "source": [
    "#### **2. Transform Data**:"
   ]
  },
  {
   "cell_type": "code",
   "execution_count": 35,
   "id": "eff46f5a-7f63-42db-8257-b011d5745a35",
   "metadata": {},
   "outputs": [
    {
     "name": "stdout",
     "output_type": "stream",
     "text": [
      "Transformed Data:\n",
      "   id              name                      email             street  \\\n",
      "0   1     Leanne Graham          Sincere@april.biz        Kulas Light   \n",
      "1   2      Ervin Howell          Shanna@melissa.tv      Victor Plains   \n",
      "2   3  Clementine Bauch         Nathan@yesenia.net  Douglas Extension   \n",
      "3   4  Patricia Lebsack  Julianne.OConner@kory.org        Hoeger Mall   \n",
      "4   5  Chelsey Dietrich   Lucio_Hettinger@annie.ca       Skiles Walks   \n",
      "\n",
      "            city     zipcode        company_name  \n",
      "0    Gwenborough  92998-3874     Romaguera-Crona  \n",
      "1    Wisokyburgh  90566-7771        Deckow-Crist  \n",
      "2  McKenziehaven  59590-4157  Romaguera-Jacobson  \n",
      "3    South Elvis  53919-4257       Robel-Corkery  \n",
      "4     Roscoeview       33263         Keebler LLC  \n"
     ]
    }
   ],
   "source": [
    "# Step 2: Transform the data\n",
    "# Extracting and flattening the address and company columns\n",
    "df_users['street'] = df_users['address'].apply(lambda x: x['street'])\n",
    "df_users['city'] = df_users['address'].apply(lambda x: x['city'])\n",
    "df_users['zipcode'] = df_users['address'].apply(lambda x: x['zipcode'])\n",
    "df_users['company_name'] = df_users['company'].apply(lambda x: x['name'])\n",
    "\n",
    "# Selecting the final columns\n",
    "df_transformed = df_users[['id', 'name', 'email', 'street', 'city', 'zipcode', 'company_name']]\n",
    "\n",
    "print(\"Transformed Data:\")\n",
    "print(df_transformed.head())"
   ]
  },
  {
   "cell_type": "markdown",
   "id": "5b160333-bfe7-4289-9a35-b97f0a19a4a9",
   "metadata": {},
   "source": [
    "#### **3. Load Data into a SQLite Database**:"
   ]
  },
  {
   "cell_type": "code",
   "execution_count": 37,
   "id": "459b5d80-6616-4fe8-a8c5-98c6a03a3548",
   "metadata": {},
   "outputs": [
    {
     "name": "stdout",
     "output_type": "stream",
     "text": [
      "Data loaded into the database successfully!\n"
     ]
    }
   ],
   "source": [
    "from sqlalchemy import create_engine\n",
    "\n",
    "# Step 3: Load the data into SQLite database\n",
    "engine = create_engine(\"sqlite:///users_data.db\")\n",
    "\n",
    "# Save the DataFrame to a SQL table\n",
    "df_transformed.to_sql(\"users\", con=engine, if_exists=\"replace\", index=False)\n",
    "\n",
    "print(\"Data loaded into the database successfully!\")"
   ]
  },
  {
   "cell_type": "code",
   "execution_count": 39,
   "id": "e080f039-6b19-4576-acdc-a4c37740458e",
   "metadata": {},
   "outputs": [
    {
     "name": "stdout",
     "output_type": "stream",
     "text": [
      "Updated Transformed Data:\n",
      "   id              name                      email             street  \\\n",
      "0   1     Leanne Graham          Sincere@april.biz        Kulas Light   \n",
      "1   2      Ervin Howell          Shanna@melissa.tv      Victor Plains   \n",
      "2   3  Clementine Bauch         Nathan@yesenia.net  Douglas Extension   \n",
      "3   4  Patricia Lebsack  Julianne.OConner@kory.org        Hoeger Mall   \n",
      "4   5  Chelsey Dietrich   Lucio_Hettinger@annie.ca       Skiles Walks   \n",
      "\n",
      "            city     zipcode        company_name email_domain  \n",
      "0    Gwenborough  92998-3874     Romaguera-Crona    april.biz  \n",
      "1    Wisokyburgh  90566-7771        Deckow-Crist   melissa.tv  \n",
      "2  McKenziehaven  59590-4157  Romaguera-Jacobson  yesenia.net  \n",
      "3    South Elvis  53919-4257       Robel-Corkery     kory.org  \n",
      "4     Roscoeview       33263         Keebler LLC     annie.ca  \n"
     ]
    }
   ],
   "source": [
    "# Additional transformation: Extract email domain\n",
    "df_transformed['email_domain'] = df_transformed['email'].apply(lambda x: x.split('@')[-1])\n",
    "\n",
    "print(\"Updated Transformed Data:\")\n",
    "print(df_transformed.head())"
   ]
  },
  {
   "cell_type": "code",
   "execution_count": null,
   "id": "445874a9-4a94-46e7-b4c5-935729960059",
   "metadata": {},
   "outputs": [],
   "source": []
  }
 ],
 "metadata": {
  "kernelspec": {
   "display_name": "Python 3 (ipykernel)",
   "language": "python",
   "name": "python3"
  },
  "language_info": {
   "codemirror_mode": {
    "name": "ipython",
    "version": 3
   },
   "file_extension": ".py",
   "mimetype": "text/x-python",
   "name": "python",
   "nbconvert_exporter": "python",
   "pygments_lexer": "ipython3",
   "version": "3.12.4"
  }
 },
 "nbformat": 4,
 "nbformat_minor": 5
}
